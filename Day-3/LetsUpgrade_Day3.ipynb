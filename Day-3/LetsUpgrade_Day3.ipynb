{
  "nbformat": 4,
  "nbformat_minor": 0,
  "metadata": {
    "colab": {
      "name": "LetsUpgrade-Day3",
      "provenance": [],
      "collapsed_sections": []
    },
    "kernelspec": {
      "name": "python3",
      "display_name": "Python 3"
    }
  },
  "cells": [
    {
      "cell_type": "markdown",
      "metadata": {
        "id": "a4GVlrBLvubZ",
        "colab_type": "text"
      },
      "source": [
        "1. Write a program to subtract two complex numbers in Python.\n"
      ]
    },
    {
      "cell_type": "code",
      "metadata": {
        "id": "b4_ztxJWfz73",
        "colab_type": "code",
        "colab": {
          "base_uri": "https://localhost:8080/",
          "height": 34
        },
        "outputId": "26e1f991-fe2d-4e5b-b7b4-22ea9e63c68f"
      },
      "source": [
        "FirstComplexNo=complex(3,2)\n",
        "SecondComplexNo=complex(4,2)\n",
        "Sub=FirstComplexNo-SecondComplexNo\n",
        "print (\"Substraction is : \", Sub )\n"
      ],
      "execution_count": null,
      "outputs": [
        {
          "output_type": "stream",
          "text": [
            "Substraction is :  (-1+0j)\n"
          ],
          "name": "stdout"
        }
      ]
    },
    {
      "cell_type": "markdown",
      "metadata": {
        "id": "oIFA1WYTvxz5",
        "colab_type": "text"
      },
      "source": [
        "2. Write a program to find the fourth root of a number.\n"
      ]
    },
    {
      "cell_type": "code",
      "metadata": {
        "id": "krBvHr-NhHdn",
        "colab_type": "code",
        "colab": {
          "base_uri": "https://localhost:8080/",
          "height": 34
        },
        "outputId": "df460428-9c47-49db-a5f7-1c73d7b50f1a"
      },
      "source": [
        "Num=625\n",
        "FourthRoot=Num**(1/4)\n",
        "print(\"Fourth Root is : \" ,FourthRoot)"
      ],
      "execution_count": null,
      "outputs": [
        {
          "output_type": "stream",
          "text": [
            "Fourth Root is :  5.0\n"
          ],
          "name": "stdout"
        }
      ]
    },
    {
      "cell_type": "markdown",
      "metadata": {
        "id": "OQDQ_NxVv4zE",
        "colab_type": "text"
      },
      "source": [
        "3.Write a program to swap two numbers in Python with the help of a temporary variable.\n"
      ]
    },
    {
      "cell_type": "code",
      "metadata": {
        "id": "JgEy9a7mhbGp",
        "colab_type": "code",
        "colab": {
          "base_uri": "https://localhost:8080/",
          "height": 34
        },
        "outputId": "0d4c3a02-f6a8-4d16-8b92-bd33a51965aa"
      },
      "source": [
        "FirstNo=10\n",
        "SecondNo=9\n",
        "temp=FirstNo\n",
        "FirstNo=SecondNo\n",
        "SecondNo=temp\n",
        "print(\"First Number=\",FirstNo,\"Second Number\",SecondNo)"
      ],
      "execution_count": null,
      "outputs": [
        {
          "output_type": "stream",
          "text": [
            "First Number= 9 Second Number 10\n"
          ],
          "name": "stdout"
        }
      ]
    },
    {
      "cell_type": "markdown",
      "metadata": {
        "id": "vu77GuI5v9Dz",
        "colab_type": "text"
      },
      "source": [
        "4.Write a program to swap two numbers in Python without using a temporary variable.\n"
      ]
    },
    {
      "cell_type": "code",
      "metadata": {
        "id": "72IUNFTAiG5U",
        "colab_type": "code",
        "colab": {
          "base_uri": "https://localhost:8080/",
          "height": 34
        },
        "outputId": "60df32e5-bac2-46ba-f925-0359a03c58d5"
      },
      "source": [
        "FirstNo,SecondNo=10,9\n",
        "FirstNo,SecondNo=SecondNo,FirstNo\n",
        "print(\"First Number=\",FirstNo,\"Second Number\",SecondNo)"
      ],
      "execution_count": null,
      "outputs": [
        {
          "output_type": "stream",
          "text": [
            "First Number= 9 Second Number 10\n"
          ],
          "name": "stdout"
        }
      ]
    },
    {
      "cell_type": "markdown",
      "metadata": {
        "id": "8YRfLYNuigbg",
        "colab_type": "text"
      },
      "source": [
        "5.Write a program to convert fahrenheit to kelvin and celsius both.\n"
      ]
    },
    {
      "cell_type": "code",
      "metadata": {
        "id": "OBaXGQx-lWyq",
        "colab_type": "code",
        "colab": {
          "base_uri": "https://localhost:8080/",
          "height": 34
        },
        "outputId": "204dea2c-20c6-461e-cffd-884071eb6da2"
      },
      "source": [
        "TempinF =100\n",
        "TempinK = (TempinF - 32) * 5/9 + 273.15\n",
        "TempinC = (TempinF - 32) * 5/9\n",
        "print(\"Temp in Fahrenheit is : \",TempinC,\"Temp in Kelvin is : \",TempinK)"
      ],
      "execution_count": null,
      "outputs": [
        {
          "output_type": "stream",
          "text": [
            "Temp in Fahrenheit is :  37.77777777777778 Temp in Kelvin is :  310.92777777777775\n"
          ],
          "name": "stdout"
        }
      ]
    },
    {
      "cell_type": "markdown",
      "metadata": {
        "id": "LiwL9r89wX5W",
        "colab_type": "text"
      },
      "source": [
        "6.Write a program to demonstrate all the available data types in Python."
      ]
    },
    {
      "cell_type": "code",
      "metadata": {
        "id": "RXIYE-Q7rPjb",
        "colab_type": "code",
        "colab": {
          "base_uri": "https://localhost:8080/",
          "height": 153
        },
        "outputId": "490a40a6-6457-4b7a-fdd5-a4774d46823c"
      },
      "source": [
        "print(type(9))\n",
        "print(type(8.34))\n",
        "print(type(\"Hello\"))\n",
        "print(type(9+62j))\n",
        "print(type(False))\n",
        "print(type({'x':'1','y':2}))\n",
        "print(type(('No','a',12)))\n",
        "print(type([1,'Hello',92,'a','Ok']))"
      ],
      "execution_count": 1,
      "outputs": [
        {
          "output_type": "stream",
          "text": [
            "<class 'int'>\n",
            "<class 'float'>\n",
            "<class 'str'>\n",
            "<class 'complex'>\n",
            "<class 'bool'>\n",
            "<class 'dict'>\n",
            "<class 'tuple'>\n",
            "<class 'list'>\n"
          ],
          "name": "stdout"
        }
      ]
    },
    {
      "cell_type": "markdown",
      "metadata": {
        "id": "MNaO1rtZyGjB",
        "colab_type": "text"
      },
      "source": [
        "7. Create a Markdown cell in jupyter and list the steps discussed in the session by Dr. Darshan\n",
        "Ingle sir to create Github profile and upload Githubs Assignment link."
      ]
    },
    {
      "cell_type": "markdown",
      "metadata": {
        "id": "bssoj0ksxhvm",
        "colab_type": "text"
      },
      "source": [
        "1. Create a Github public repo with name \"LetsUpgrade AI/ML\"\n",
        "2. Create Seperate folder for each day.\n",
        "3. Copy the URL of the Folder of that day and paste in the Assignment Submission Form (Google Form)\n",
        "4. Make sure required and correct details are filled"
      ]
    }
  ]
}