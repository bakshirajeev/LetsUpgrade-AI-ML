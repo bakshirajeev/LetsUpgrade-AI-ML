{
  "nbformat": 4,
  "nbformat_minor": 0,
  "metadata": {
    "colab": {
      "name": "LetsUpgrade Day 4",
      "provenance": [],
      "collapsed_sections": []
    },
    "kernelspec": {
      "name": "python3",
      "display_name": "Python 3"
    }
  },
  "cells": [
    {
      "cell_type": "markdown",
      "metadata": {
        "id": "a48bX7JpykKL",
        "colab_type": "text"
      },
      "source": [
        "1. Research on whether addition, subtraction, multiplication, division, floor division and modulo\n",
        "operations be performed on complex numbers. Based on your study, implement a Python\n",
        "program to demonstrate these operations"
      ]
    },
    {
      "cell_type": "code",
      "metadata": {
        "id": "JqbAoEkoOVJ-",
        "colab_type": "code",
        "colab": {
          "base_uri": "https://localhost:8080/",
          "height": 84
        },
        "outputId": "8a659f7a-8d9a-4d64-be5a-7e7208d75b33"
      },
      "source": [
        "a = 1 + 2j\n",
        "b = 3 + 5j\n",
        "\n",
        "print('Sum=',a+b)\n",
        "print(\"Difference= \",a-b)\n",
        "print(\"Multiplication= \",a*b)\n",
        "print(\"Division= \",a/b)\n",
        "#Floor Division cannot be performed on Complex Numbers\n",
        "#Modulo cannot be peformed on Complext numbers\n"
      ],
      "execution_count": null,
      "outputs": [
        {
          "output_type": "stream",
          "text": [
            "Sum= (4+7j)\n",
            "Difference=  (-2-3j)\n",
            "Multiplication=  (-7+11j)\n",
            "Division=  (0.3823529411764706+0.029411764705882346j)\n"
          ],
          "name": "stdout"
        }
      ]
    },
    {
      "cell_type": "markdown",
      "metadata": {
        "id": "bQSIGgqHyv9A",
        "colab_type": "text"
      },
      "source": [
        "2.Research on range() functions and its parameters. Create a markdown cell and write in your own\n",
        "words (no copy-paste from google please) what you understand about it. Implement a small\n",
        "program of your choice on the same."
      ]
    },
    {
      "cell_type": "markdown",
      "metadata": {
        "id": "DVQswg5sQMbQ",
        "colab_type": "text"
      },
      "source": [
        "**range** functions returns sequence of specified numbers . By default it  starts from 0 and the step is 1 \n",
        "***range(start, stop, step)***\n",
        "range has three arguments out of which two are optional (stop and step)\n"
      ]
    },
    {
      "cell_type": "code",
      "metadata": {
        "id": "TSCR6IhLQwa-",
        "colab_type": "code",
        "colab": {
          "base_uri": "https://localhost:8080/",
          "height": 185
        },
        "outputId": "82b2d5db-12c9-4784-f1c2-3b6387d8222b"
      },
      "source": [
        "for i in range(10):\n",
        "  print(i)"
      ],
      "execution_count": null,
      "outputs": [
        {
          "output_type": "stream",
          "text": [
            "0\n",
            "1\n",
            "2\n",
            "3\n",
            "4\n",
            "5\n",
            "6\n",
            "7\n",
            "8\n",
            "9\n"
          ],
          "name": "stdout"
        }
      ]
    },
    {
      "cell_type": "markdown",
      "metadata": {
        "id": "wtyNpaDBRBPb",
        "colab_type": "text"
      },
      "source": [
        "3. Consider two numbers. Perform their subtraction and if the result of subtraction is greater than\n",
        "25, print their multiplication result else print their division result.\n"
      ]
    },
    {
      "cell_type": "code",
      "metadata": {
        "id": "syatSV5VRDyG",
        "colab_type": "code",
        "colab": {
          "base_uri": "https://localhost:8080/",
          "height": 34
        },
        "outputId": "b5eecaa3-0b41-45f2-8b6d-fde236b6f115"
      },
      "source": [
        "a=40\n",
        "b=10\n",
        "\n",
        "if (a-b)>25:\n",
        "  print(a*b)\n",
        "else:\n",
        "  print(a/b)"
      ],
      "execution_count": null,
      "outputs": [
        {
          "output_type": "stream",
          "text": [
            "400\n"
          ],
          "name": "stdout"
        }
      ]
    },
    {
      "cell_type": "markdown",
      "metadata": {
        "id": "tJ--mVm1UM9E",
        "colab_type": "text"
      },
      "source": [
        "4. Consider a list of 10 elements of integer values. If the number in the list is divisible by 2, print the\n",
        "result as \"square of that number minus 2\".\n"
      ]
    },
    {
      "cell_type": "code",
      "metadata": {
        "id": "SiWJ6dhkRbDx",
        "colab_type": "code",
        "colab": {
          "base_uri": "https://localhost:8080/",
          "height": 101
        },
        "outputId": "5c642054-64de-4704-b855-4089e0c7cd2f"
      },
      "source": [
        "l =[1,2,3,4,5,6,7,8,9,10]\n",
        "for i in l:\n",
        "  if i%2==0:\n",
        "    print(i**2-2)"
      ],
      "execution_count": null,
      "outputs": [
        {
          "output_type": "stream",
          "text": [
            "2\n",
            "14\n",
            "34\n",
            "62\n",
            "98\n"
          ],
          "name": "stdout"
        }
      ]
    },
    {
      "cell_type": "markdown",
      "metadata": {
        "id": "kJcz22RUUQW1",
        "colab_type": "text"
      },
      "source": [
        "5. Consider a list of 10 elements. Print all the elements in the list which are greater than 7 when that\n",
        "number is divided 2."
      ]
    },
    {
      "cell_type": "code",
      "metadata": {
        "id": "YqhW28sQR8al",
        "colab_type": "code",
        "colab": {
          "base_uri": "https://localhost:8080/",
          "height": 168
        },
        "outputId": "59e5d645-ab92-43d3-c32e-b3d407aa66c2"
      },
      "source": [
        "l =[12,22,53,44,215,336,217,18,90,100]\n",
        "for i in l:\n",
        "  if i/2>7:\n",
        "    print(i)"
      ],
      "execution_count": null,
      "outputs": [
        {
          "output_type": "stream",
          "text": [
            "22\n",
            "53\n",
            "44\n",
            "215\n",
            "336\n",
            "217\n",
            "18\n",
            "90\n",
            "100\n"
          ],
          "name": "stdout"
        }
      ]
    }
  ]
}