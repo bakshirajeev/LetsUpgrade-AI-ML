{
  "nbformat": 4,
  "nbformat_minor": 0,
  "metadata": {
    "colab": {
      "name": "LetsUpgradeDay5.ipynb",
      "provenance": [],
      "collapsed_sections": []
    },
    "kernelspec": {
      "name": "python3",
      "display_name": "Python 3"
    }
  },
  "cells": [
    {
      "cell_type": "markdown",
      "metadata": {
        "id": "FYQSoFcvz8Wp",
        "colab_type": "text"
      },
      "source": [
        "1. Write a Python program to find the first 20 non-even prime natural numbers.\n"
      ]
    },
    {
      "cell_type": "code",
      "metadata": {
        "id": "Tgd2cM1BEr4M",
        "colab_type": "code",
        "colab": {
          "base_uri": "https://localhost:8080/",
          "height": 34
        },
        "outputId": "9fae877f-735f-44df-cbc6-256b24505204"
      },
      "source": [
        "N =20\n",
        "i=1\n",
        "count=0\n",
        "while(count<N):\n",
        "      for x in range(i,i+1):\n",
        "          c=0\n",
        "          for y in range(1,x+1):\n",
        "              if(x%y==0):\n",
        "                 c=c+1\n",
        "          if(c==2):\n",
        "             if x%2!=0:\n",
        "                print(x, end=' ')\n",
        "                count=count+1\n",
        "      i=i+1"
      ],
      "execution_count": null,
      "outputs": [
        {
          "output_type": "stream",
          "text": [
            "3 5 7 11 13 17 19 23 29 31 37 41 43 47 53 59 61 67 71 73 "
          ],
          "name": "stdout"
        }
      ]
    },
    {
      "cell_type": "markdown",
      "metadata": {
        "id": "i6gWnVn-E_xg",
        "colab_type": "text"
      },
      "source": [
        ""
      ]
    },
    {
      "cell_type": "markdown",
      "metadata": {
        "id": "tAaP71kg0Ahc",
        "colab_type": "text"
      },
      "source": [
        "2.Write a Python program to implement 15 functions of string.\n"
      ]
    },
    {
      "cell_type": "code",
      "metadata": {
        "id": "jkqzHUVhFYKM",
        "colab_type": "code",
        "colab": {
          "base_uri": "https://localhost:8080/",
          "height": 286
        },
        "outputId": "c2d687c5-2348-46ea-ed64-4dd431a65fe1"
      },
      "source": [
        "string=str(input('Enter the string:'))\n",
        "print(string.capitalize())\n",
        "print(string.count('h'))\n",
        "print(string.endswith('u'))\n",
        "print(string.find('how'))\n",
        "print(string.isalnum())\n",
        "print(string.isalpha())\n",
        "print(string.islower())\n",
        "print(string.isupper())\n",
        "print(string.replace('is','was'))\n",
        "print(string[0])\n",
        "print(string[-1])\n",
        "print(string[::-1])\n",
        "print('t' in string)\n",
        "print(string.upper())\n",
        "print(string.isdigit())"
      ],
      "execution_count": null,
      "outputs": [
        {
          "output_type": "stream",
          "text": [
            "Enter the string:jagsjdjdjtaudsdasd\n",
            "Jagsjdjdjtaudsdasd\n",
            "0\n",
            "False\n",
            "-1\n",
            "True\n",
            "True\n",
            "True\n",
            "False\n",
            "jagsjdjdjtaudsdasd\n",
            "j\n",
            "d\n",
            "dsadsduatjdjdjsgaj\n",
            "True\n",
            "JAGSJDJDJTAUDSDASD\n",
            "False\n"
          ],
          "name": "stdout"
        }
      ]
    },
    {
      "cell_type": "markdown",
      "metadata": {
        "id": "IwUOTGEm0GFt",
        "colab_type": "text"
      },
      "source": [
        "3.Write a Python program to check if the given string is a Palindrome or Anagram or None of them.\n",
        "Display the message accordingly to the user"
      ]
    },
    {
      "cell_type": "code",
      "metadata": {
        "id": "Y08r1q27FBFz",
        "colab_type": "code",
        "colab": {
          "base_uri": "https://localhost:8080/",
          "height": 101
        },
        "outputId": "d63a2ef8-e07b-43f2-f9a9-e6c743a20398"
      },
      "source": [
        "def checkPalindrome(a):\n",
        "  if a[::-1]==a:\n",
        "    print(a,' is Palindrome')\n",
        "\n",
        "def CheckAnagram(a,b):\n",
        "  checkPalindrome(a)\n",
        "  checkPalindrome(b)\n",
        "  if sorted(a)==sorted(b):\n",
        "    print(a, \"and \", b, \" are Anagram\")\n",
        "\n",
        "a=str(input('Enter first string: '))\n",
        "b=str(input('Enter second string: '))\n",
        "CheckAnagram(a,b)"
      ],
      "execution_count": null,
      "outputs": [
        {
          "output_type": "stream",
          "text": [
            "Enter first string: madam\n",
            "Enter second string: madam\n",
            "madam  is Palindrome\n",
            "madam  is Palindrome\n",
            "madam and  madam  are Anagram\n"
          ],
          "name": "stdout"
        }
      ]
    },
    {
      "cell_type": "markdown",
      "metadata": {
        "id": "GpUXR9V40S6A",
        "colab_type": "text"
      },
      "source": [
        "4.Write a Python's user defined function that removes all the additional characters from the string\n",
        "and converts it finally to lower case using built-in lower(). eg: If the string is \"Dr. Darshan Ingle\n",
        "@AI-ML Trainer\", then the output be \"drdarshaningleaimltrainer\""
      ]
    },
    {
      "cell_type": "code",
      "metadata": {
        "id": "LAkvng-_TNBS",
        "colab_type": "code",
        "colab": {
          "base_uri": "https://localhost:8080/",
          "height": 34
        },
        "outputId": "0558a3af-7a05-43e2-97d3-cb473e07436a"
      },
      "source": [
        "def remspecchar(str1):\n",
        "  for i in range(len(str1)):\n",
        "    if str1[i].isalnum()==True:\n",
        "       #a=''.Join(str1[i].lower())\n",
        "       print(str1[i].lower(),end='')\n",
        "\n",
        "remspecchar('Dr. Darshan Ingle@AI-ML')\n",
        "\n",
        "\n"
      ],
      "execution_count": null,
      "outputs": [
        {
          "output_type": "stream",
          "text": [
            "drdarshaningleaiml"
          ],
          "name": "stdout"
        }
      ]
    }
  ]
}